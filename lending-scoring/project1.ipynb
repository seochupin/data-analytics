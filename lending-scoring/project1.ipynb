{
 "cells": [
  {
   "cell_type": "markdown",
   "metadata": {},
   "source": [
    "## Библиотеки проекта"
   ]
  },
  {
   "cell_type": "markdown",
   "metadata": {},
   "source": [
    "Подключим список библиотек, которые используются в данном проекте. Импортируем библиотеки *pandas*, *pymystem3* и *collections* в наш проект. "
   ]
  },
  {
   "cell_type": "code",
   "execution_count": 1,
   "metadata": {},
   "outputs": [
    {
     "name": "stdout",
     "output_type": "stream",
     "text": [
      "Requirement already satisfied: pymystem3 in /Users/apple/opt/anaconda3/envs/practicum/lib/python3.7/site-packages (0.2.0)\n",
      "Requirement already satisfied: requests in /Users/apple/opt/anaconda3/envs/practicum/lib/python3.7/site-packages (from pymystem3) (2.22.0)\n",
      "Requirement already satisfied: chardet<3.1.0,>=3.0.2 in /Users/apple/opt/anaconda3/envs/practicum/lib/python3.7/site-packages (from requests->pymystem3) (3.0.4)\n",
      "Requirement already satisfied: idna<2.9,>=2.5 in /Users/apple/opt/anaconda3/envs/practicum/lib/python3.7/site-packages (from requests->pymystem3) (2.8)\n",
      "Requirement already satisfied: urllib3!=1.25.0,!=1.25.1,<1.26,>=1.21.1 in /Users/apple/opt/anaconda3/envs/practicum/lib/python3.7/site-packages (from requests->pymystem3) (1.25.11)\n",
      "Requirement already satisfied: certifi>=2017.4.17 in /Users/apple/opt/anaconda3/envs/practicum/lib/python3.7/site-packages (from requests->pymystem3) (2020.6.20)\n"
     ]
    }
   ],
   "source": [
    "!pip install pymystem3\n",
    "\n",
    "# Импорт библиотеки pandas\n",
    "import pandas as pd\n",
    "\n",
    "# Импортируем библиотеку pymysteam3\n",
    "from pymystem3 import Mystem\n",
    "\n",
    "# Импортируем библиотеку collections\n",
    "from collections import Counter"
   ]
  },
  {
   "cell_type": "markdown",
   "metadata": {},
   "source": [
    "# Исследование надёжности заёмщиков\n",
    "\n",
    "Заказчик — кредитный отдел банка. Нужно разобраться, влияет ли семейное положение и количество детей клиента на факт погашения кредита в срок. Входные данные от банка — статистика о платёжеспособности клиентов.\n",
    "\n",
    "Результаты исследования будут учтены при построении модели **кредитного скоринга** — специальной системы, которая оценивает способность потенциального заёмщика вернуть кредит банку.\n",
    "\n",
    "Предстоит ответить на четыре вопроса:\n",
    "\n",
    "* Есть ли зависимость между наличием детей и возвратом кредита в срок?\n",
    "* Есть ли зависимость между семейным положением и возвратом кредита в срок?\n",
    "* Есть ли зависимость между уровнем дохода и возвратом кредита в срок?\n",
    "* Как разные цели кредита влияют на его возврат в срок?\n",
    "\n",
    "### Оглавление\n",
    "\n",
    "- [Этап 1. Получение данных](#s1)\n",
    "\n",
    "\n",
    "- [Этап 2. Предобработка данных](#s2)\n",
    "  - [Наименования столбцов](#s2-1)\n",
    "  - [Обработка пропусков](#s2-2)\n",
    "  - [Замена типа данных](#s2-3)\n",
    "  - [Обработка дубликатов](#s2-4)\n",
    "  - [Лемматизация](#s2-5)\n",
    "    - [Леммы для целей кредита. Первый вариант – множество](#s2-5-1)\n",
    "    - [Леммы для целей кредита. Второй вариант – словарь](#s2-5-2)\n",
    "  - [Категоризация](#s2-6)\n",
    "    - [По детям](#s2-6-1)\n",
    "    - [По доходу](#s2-6-2)\n",
    "    - [По целям](#s2-6-3)\n",
    "    - [По задолженности](#s2-6-4)\n",
    "    \n",
    "    \n",
    "- [Этап 3. Ответы на вопросы](#s3)\n",
    "  - [Есть ли зависимость между наличием детей и возвратом кредита в срок?](#s3-1)\n",
    "  - [Есть ли зависимость между семейным положением и возвратом кредита в срок?](#s3-2)\n",
    "  - [Есть ли зависимость между уровнем дохода и возвратом кредита в срок?](#s3-3)\n",
    "  - [Как разные цели кредита влияют на его возврат в срок?](#s3-4)\n",
    "  \n",
    "  \n",
    "- [Этап 4. Вывод](#s4)"
   ]
  },
  {
   "cell_type": "markdown",
   "metadata": {},
   "source": [
    "# Этап 1. Получение данных <a id=\"s1\"></a>"
   ]
  },
  {
   "cell_type": "markdown",
   "metadata": {},
   "source": [
    "#### Получим и сделаем первичные выводы о предоставленных данных заказчиком"
   ]
  },
  {
   "cell_type": "markdown",
   "metadata": {},
   "source": [
    "Прочитаем файл *data.csv* с входными данными и сохраним его в переменной *data*. Выведем первых 5 строк таблицы *data*, чтобы визуально ознакомиться с данными."
   ]
  },
  {
   "cell_type": "code",
   "execution_count": 2,
   "metadata": {},
   "outputs": [
    {
     "data": {
      "text/html": [
       "<div>\n",
       "<style scoped>\n",
       "    .dataframe tbody tr th:only-of-type {\n",
       "        vertical-align: middle;\n",
       "    }\n",
       "\n",
       "    .dataframe tbody tr th {\n",
       "        vertical-align: top;\n",
       "    }\n",
       "\n",
       "    .dataframe thead th {\n",
       "        text-align: right;\n",
       "    }\n",
       "</style>\n",
       "<table border=\"1\" class=\"dataframe\">\n",
       "  <thead>\n",
       "    <tr style=\"text-align: right;\">\n",
       "      <th></th>\n",
       "      <th>children</th>\n",
       "      <th>days_employed</th>\n",
       "      <th>dob_years</th>\n",
       "      <th>education</th>\n",
       "      <th>education_id</th>\n",
       "      <th>family_status</th>\n",
       "      <th>family_status_id</th>\n",
       "      <th>gender</th>\n",
       "      <th>income_type</th>\n",
       "      <th>debt</th>\n",
       "      <th>total_income</th>\n",
       "      <th>purpose</th>\n",
       "    </tr>\n",
       "  </thead>\n",
       "  <tbody>\n",
       "    <tr>\n",
       "      <td>0</td>\n",
       "      <td>1</td>\n",
       "      <td>-8437.673028</td>\n",
       "      <td>42</td>\n",
       "      <td>высшее</td>\n",
       "      <td>0</td>\n",
       "      <td>женат / замужем</td>\n",
       "      <td>0</td>\n",
       "      <td>F</td>\n",
       "      <td>сотрудник</td>\n",
       "      <td>0</td>\n",
       "      <td>253875.639453</td>\n",
       "      <td>покупка жилья</td>\n",
       "    </tr>\n",
       "    <tr>\n",
       "      <td>1</td>\n",
       "      <td>1</td>\n",
       "      <td>-4024.803754</td>\n",
       "      <td>36</td>\n",
       "      <td>среднее</td>\n",
       "      <td>1</td>\n",
       "      <td>женат / замужем</td>\n",
       "      <td>0</td>\n",
       "      <td>F</td>\n",
       "      <td>сотрудник</td>\n",
       "      <td>0</td>\n",
       "      <td>112080.014102</td>\n",
       "      <td>приобретение автомобиля</td>\n",
       "    </tr>\n",
       "    <tr>\n",
       "      <td>2</td>\n",
       "      <td>0</td>\n",
       "      <td>-5623.422610</td>\n",
       "      <td>33</td>\n",
       "      <td>Среднее</td>\n",
       "      <td>1</td>\n",
       "      <td>женат / замужем</td>\n",
       "      <td>0</td>\n",
       "      <td>M</td>\n",
       "      <td>сотрудник</td>\n",
       "      <td>0</td>\n",
       "      <td>145885.952297</td>\n",
       "      <td>покупка жилья</td>\n",
       "    </tr>\n",
       "    <tr>\n",
       "      <td>3</td>\n",
       "      <td>3</td>\n",
       "      <td>-4124.747207</td>\n",
       "      <td>32</td>\n",
       "      <td>среднее</td>\n",
       "      <td>1</td>\n",
       "      <td>женат / замужем</td>\n",
       "      <td>0</td>\n",
       "      <td>M</td>\n",
       "      <td>сотрудник</td>\n",
       "      <td>0</td>\n",
       "      <td>267628.550329</td>\n",
       "      <td>дополнительное образование</td>\n",
       "    </tr>\n",
       "    <tr>\n",
       "      <td>4</td>\n",
       "      <td>0</td>\n",
       "      <td>340266.072047</td>\n",
       "      <td>53</td>\n",
       "      <td>среднее</td>\n",
       "      <td>1</td>\n",
       "      <td>гражданский брак</td>\n",
       "      <td>1</td>\n",
       "      <td>F</td>\n",
       "      <td>пенсионер</td>\n",
       "      <td>0</td>\n",
       "      <td>158616.077870</td>\n",
       "      <td>сыграть свадьбу</td>\n",
       "    </tr>\n",
       "  </tbody>\n",
       "</table>\n",
       "</div>"
      ],
      "text/plain": [
       "   children  days_employed  dob_years education  education_id  \\\n",
       "0         1   -8437.673028         42    высшее             0   \n",
       "1         1   -4024.803754         36   среднее             1   \n",
       "2         0   -5623.422610         33   Среднее             1   \n",
       "3         3   -4124.747207         32   среднее             1   \n",
       "4         0  340266.072047         53   среднее             1   \n",
       "\n",
       "      family_status  family_status_id gender income_type  debt   total_income  \\\n",
       "0   женат / замужем                 0      F   сотрудник     0  253875.639453   \n",
       "1   женат / замужем                 0      F   сотрудник     0  112080.014102   \n",
       "2   женат / замужем                 0      M   сотрудник     0  145885.952297   \n",
       "3   женат / замужем                 0      M   сотрудник     0  267628.550329   \n",
       "4  гражданский брак                 1      F   пенсионер     0  158616.077870   \n",
       "\n",
       "                      purpose  \n",
       "0               покупка жилья  \n",
       "1     приобретение автомобиля  \n",
       "2               покупка жилья  \n",
       "3  дополнительное образование  \n",
       "4             сыграть свадьбу  "
      ]
     },
     "execution_count": 2,
     "metadata": {},
     "output_type": "execute_result"
    }
   ],
   "source": [
    "# Чтение файла с данными с сохранением в data\n",
    "data = pd.read_csv('datasets/data.csv')\n",
    "#data = pd.read_csv('/datasets/data.csv')\n",
    "\n",
    "# Получение первых 5 строк таблицы data методом head()\n",
    "data.head()"
   ]
  },
  {
   "cell_type": "markdown",
   "metadata": {},
   "source": [
    "Давайте получим общую информация о данных таблицы *data* методом info(), а также ознакомимся с наличием пропусков и типами данных."
   ]
  },
  {
   "cell_type": "code",
   "execution_count": 3,
   "metadata": {},
   "outputs": [
    {
     "name": "stdout",
     "output_type": "stream",
     "text": [
      "<class 'pandas.core.frame.DataFrame'>\n",
      "RangeIndex: 21525 entries, 0 to 21524\n",
      "Data columns (total 12 columns):\n",
      "children            21525 non-null int64\n",
      "days_employed       19351 non-null float64\n",
      "dob_years           21525 non-null int64\n",
      "education           21525 non-null object\n",
      "education_id        21525 non-null int64\n",
      "family_status       21525 non-null object\n",
      "family_status_id    21525 non-null int64\n",
      "gender              21525 non-null object\n",
      "income_type         21525 non-null object\n",
      "debt                21525 non-null int64\n",
      "total_income        19351 non-null float64\n",
      "purpose             21525 non-null object\n",
      "dtypes: float64(2), int64(5), object(5)\n",
      "memory usage: 2.0+ MB\n"
     ]
    }
   ],
   "source": [
    "# Получение общей информации о данных в таблице data методом info()\n",
    "data.info()"
   ]
  },
  {
   "cell_type": "markdown",
   "metadata": {},
   "source": [
    "Рассмотрим полученную информацию подробнее.\n",
    "\n",
    "Всего в таблице *data* – 12 столбцов:\n",
    "- **строковые** – 5 столбцов;\n",
    "- **целочисленные** – 5 столбцов;\n",
    "- **с плавающей точкой** – 2 столбца.\n",
    "\n",
    "Подробно разберём, какие столбцы в таблице *data* и какую информацию они содержат:\n",
    "\n",
    "**object:**\n",
    "- *education* — уровень образования клиента;\n",
    "- *family_status* — семейное положение;\n",
    "- *gender* — пол клиента;\n",
    "- *income_type* — тип занятости;\n",
    "- *purpose* — цель получения кредита.\n",
    "\n",
    "\n",
    "**integer:**\n",
    "- *children* — количество детей в семье;\n",
    "- *dob_years* — возраст клиента в годах;\n",
    "- *education_id* — идентификатор уровня образования;\n",
    "- *family_status_id* — идентификатор семейного положения;\n",
    "- *debt* — имел ли задолженность по возврату кредитов;\n",
    "\n",
    "\n",
    "**float:**\n",
    "- *days_employed* — общий трудовой стаж в днях;\n",
    "- *total_income* — ежемесячный доход.\n",
    "\n",
    "\n",
    "Количество значений в столбцах различается, но не значительно.\n",
    "Выпадают из общего списка 2 столбца:\n",
    "- общий трудовой стаж в днях;\n",
    "- ежемесячный доход.\n",
    "\n",
    "и оба типа *float*"
   ]
  },
  {
   "cell_type": "markdown",
   "metadata": {},
   "source": [
    "## Вывод"
   ]
  },
  {
   "cell_type": "markdown",
   "metadata": {},
   "source": [
    "Строки таблицы содержат в себе информацию о клиентах, которые брали кредитные средства под определенные нужды. Также имеются данные о возрасте клиента, образовании, семейном положении, количестве детей, трудовом стаже, типе занятости, ежемесячном доходе и его принадлежность к определенному гендору.\n",
    "\n",
    "Для подготовки данных к анализу необходимо разобраться со следующими пунктами:\n",
    "- **days_employed (общий трудовой стаж в днях)** – наблюдаются отрицательные значения, а также очень большие положительные. Необходимо понять природу их происхождения, выявить закономерность и аномальность этих данных;\n",
    "- **данные с различным регистром** – привести значения в единый регистр для дальнейшего анализа;\n",
    "- **поиск дублей** – так как отсутствует уникальный идентификатор пользователя, по-которому мы бы смогли сделать проверку на дубли, есть риск очистить схожие данные.\n",
    "- **пропуски и 0 значения** – проверить данные на пропуски и отрицательные значения (в столбцах, где \"-\" выглядит аномальным). Для одних восстановить средними или медианными значениями, чтобы не потерять репрезентативнось данных, а для других сделать положительными;\n",
    "- **числа с плавающей точкой** – тип *float* привести в целочисленный вид данных *integer*;\n",
    "- **purpose (цель получения кредита)** – лемматизировать значения в нормальную словоформу.\n",
    "- Для проверки рабочих гепотез особенно важны столбцы **debt**, **children**, **family_status**, **total_income** и **purpose**. Поэтому почти все колонки категоризируем, для формирования визуально понятных выводов по категориям."
   ]
  },
  {
   "cell_type": "markdown",
   "metadata": {},
   "source": [
    "# Этап 2. Предобработка данных<a id=\"s2\"></a>"
   ]
  },
  {
   "cell_type": "markdown",
   "metadata": {},
   "source": [
    "#### Обработаем пропуски, изменим тип данных, проверим данные на наличие дубликатов, лемматизируем цели получения кредита и категоризируем данные."
   ]
  },
  {
   "cell_type": "markdown",
   "metadata": {},
   "source": [
    "## Наименования столбцов<a id=\"s2-1\"></a>"
   ]
  },
  {
   "cell_type": "markdown",
   "metadata": {},
   "source": [
    "Проверим названия столбцов на возможные пробелы, чтобы в дальнейшем не было проблем к их обращению. Получим список названий столбцов в нашей исследуемой таблицы с данными *data*."
   ]
  },
  {
   "cell_type": "code",
   "execution_count": 4,
   "metadata": {},
   "outputs": [
    {
     "data": {
      "text/plain": [
       "Index(['children', 'days_employed', 'dob_years', 'education', 'education_id',\n",
       "       'family_status', 'family_status_id', 'gender', 'income_type', 'debt',\n",
       "       'total_income', 'purpose'],\n",
       "      dtype='object')"
      ]
     },
     "execution_count": 4,
     "metadata": {},
     "output_type": "execute_result"
    }
   ],
   "source": [
    "# Получение перечня названий столбцов таблицы data\n",
    "data.columns"
   ]
  },
  {
   "cell_type": "markdown",
   "metadata": {},
   "source": [
    "## Вывод"
   ]
  },
  {
   "cell_type": "markdown",
   "metadata": {},
   "source": [
    "В названиях колонок отсутствуют пробелы, что позволит без каких-либо проблем обращаться к данным через их нименование."
   ]
  },
  {
   "cell_type": "markdown",
   "metadata": {},
   "source": [
    "## Обработка пропусков<a id=\"s2-2\"></a>"
   ]
  },
  {
   "cell_type": "markdown",
   "metadata": {},
   "source": [
    "Проверим общее кол-во пропусков в таблице **data методом** **isnull().sum()**"
   ]
  },
  {
   "cell_type": "code",
   "execution_count": 5,
   "metadata": {},
   "outputs": [
    {
     "data": {
      "text/plain": [
       "children               0\n",
       "days_employed       2174\n",
       "dob_years              0\n",
       "education              0\n",
       "education_id           0\n",
       "family_status          0\n",
       "family_status_id       0\n",
       "gender                 0\n",
       "income_type            0\n",
       "debt                   0\n",
       "total_income        2174\n",
       "purpose                0\n",
       "dtype: int64"
      ]
     },
     "execution_count": 5,
     "metadata": {},
     "output_type": "execute_result"
    }
   ],
   "source": [
    "# Cуммарное количество пропусков, выявленных методом isnull() в таблице data\n",
    "data.isnull().sum()"
   ]
  },
  {
   "cell_type": "markdown",
   "metadata": {},
   "source": [
    "Видим, что в столбцах **days_employed** и **days_employed** имеется одинаковое количество пропусков.\n",
    "Попробуем исследовать эти данные, отфильтровав таблицу **data** по столбцам **days_employed** и **days_employed**, в которых встречаются пропуски и запишем в переменную **data_null**."
   ]
  },
  {
   "cell_type": "code",
   "execution_count": 6,
   "metadata": {},
   "outputs": [
    {
     "name": "stdout",
     "output_type": "stream",
     "text": [
      "<class 'pandas.core.frame.DataFrame'>\n",
      "Int64Index: 2174 entries, 12 to 21510\n",
      "Data columns (total 12 columns):\n",
      "children            2174 non-null int64\n",
      "days_employed       0 non-null float64\n",
      "dob_years           2174 non-null int64\n",
      "education           2174 non-null object\n",
      "education_id        2174 non-null int64\n",
      "family_status       2174 non-null object\n",
      "family_status_id    2174 non-null int64\n",
      "gender              2174 non-null object\n",
      "income_type         2174 non-null object\n",
      "debt                2174 non-null int64\n",
      "total_income        0 non-null float64\n",
      "purpose             2174 non-null object\n",
      "dtypes: float64(2), int64(5), object(5)\n",
      "memory usage: 220.8+ KB\n"
     ]
    }
   ],
   "source": [
    "# Фильтр таблицы data по столбцам days_employed и days_employed c isnull() = True и записью в переменную data_null\n",
    "data_null = data[(data['days_employed'].isnull() == True) & (data['total_income'].isnull() == True)]\n",
    "\n",
    "# Получение общей информации о данных в таблице data_null\n",
    "data_null.info()"
   ]
  },
  {
   "cell_type": "markdown",
   "metadata": {},
   "source": [
    "Количество пропусков – **2174** в столцах таблицы **data** соответствует количеству строк **2174** таблицы **data_null**. Можно сделать промежуточный вывод о том, что эти данные получали из одного источника или в одно время, когда информация о стаже и доходе клиента не собиралась.\n",
    "\n",
    "Расчитаем процент пропусков от общего количества данных: возьмем частное от длины **data_null** и **data** и выведем их процент. А также посчитаем кол-во клиентов с задолженностю по кредиту, взяв сумму по столбцу **debt** в **data_null**."
   ]
  },
  {
   "cell_type": "code",
   "execution_count": 7,
   "metadata": {},
   "outputs": [
    {
     "name": "stdout",
     "output_type": "stream",
     "text": [
      "Процент пропусков от общего количества данных: 10%\n",
      "Кол-во клиентов в пропусках с задолженностью по кредиту: 170\n"
     ]
    }
   ],
   "source": [
    "# Вывод процента пропусков от общего количества данных\n",
    "print('Процент пропусков от общего количества данных: {:.0%}'.format(len(data_null) / len(data)))\n",
    "\n",
    "# Подсчет количества клиентов в пропусках, у которых были задолженности возврата кредита 'debt'\n",
    "print('Кол-во клиентов в пропусках с задолженностью по кредиту:', data_null['debt'].sum())"
   ]
  },
  {
   "cell_type": "markdown",
   "metadata": {},
   "source": [
    "Достаточно большой процент пропущенных значений, чтобы пренебречь этими данными. Также в пропусках имеются важные данные о задолженности возврата кредита.\n",
    "\n",
    "Проработаем пропуски по ежемесячному доходу и заполним их."
   ]
  },
  {
   "cell_type": "code",
   "execution_count": 8,
   "metadata": {},
   "outputs": [
    {
     "name": "stdout",
     "output_type": "stream",
     "text": [
      "Минимальное значение дохода: 20667\n",
      "Макимальное значение дохода: 2265604\n"
     ]
    }
   ],
   "source": [
    "# Вывод минимального значения дохода из столбца total_income методом min()\n",
    "print('Минимальное значение дохода: {:.0f}'.format(data['total_income'].min()))\n",
    "\n",
    "# Вывод максимального значения дохода из столбца total_income методом max()\n",
    "print('Макимальное значение дохода: {:.0f}'.format(data['total_income'].max()))"
   ]
  },
  {
   "cell_type": "markdown",
   "metadata": {},
   "source": [
    "Так как отрицательных значений не имеем, то мы можем использовать данные колонки **total_income** для расчета средних значений. \n",
    "\n",
    "Расчет среднего значения о ежемесячном доходе будет репрезентативнее с использованием **median()** колонки *total_income*. Потому как среднее значение выявленное методом *mean()* будет искажать реальные данные за счет огромного значения **2 265 604**.\n",
    "\n",
    "Для более достоверного расчета среднего зачения ежемесячного дохода для пропусков, расчитаем медианы значений по типу занятости в колонке **'income_type'** таблицы **data** и запишем их в словарь **total_income_median** с парой **ключ: значение: {income_type: total_income.median()}**. \n",
    "\n",
    "Напишем функцию **income_filter**, которая будет отдавать значения взятые из списка **total_income_median** по ключу **income_type** из условия наличия пропуска в ячейки **total_income**. Далее, использую функцию **income_filter**, подставим значения в пропуск методом **apply()**\n",
    "\n",
    "Переведем все значения в колонках с типом **object** в нижний регистр методом **str.lower()**, чтобы в дальнейшем было комфортно с ними работать, не потеряв лишние данные. Создавать дополнительную колонку не имеет смысла, так как это категориальные значения и необходимости держать такие данные в различном регистре – нет. При этом пропуски с этим типом данных отсутствуют."
   ]
  },
  {
   "cell_type": "code",
   "execution_count": 9,
   "metadata": {},
   "outputs": [],
   "source": [
    "# напишем цикл, в котором будем искать все колонки с типом данных object\n",
    "# и изменять значения в нижний регистр у этих колонок\n",
    "\n",
    "# создаем цикл в котором перебираем значения длины кол-ва_столбцов_в_data\n",
    "# внутри цикла создадим условие проверки данных колонки равным object \n",
    "# если пересечения есть, то заменяем значения этой колонки на нижний регистр\n",
    "for item in range(len(data.columns)):\n",
    "    if data[data.columns[item]].dtypes == object:\n",
    "        data[data.columns[item]] = data[data.columns[item]].str.lower()"
   ]
  },
  {
   "cell_type": "code",
   "execution_count": 10,
   "metadata": {},
   "outputs": [
    {
     "data": {
      "text/plain": [
       "children               0\n",
       "days_employed       2174\n",
       "dob_years              0\n",
       "education              0\n",
       "education_id           0\n",
       "family_status          0\n",
       "family_status_id       0\n",
       "gender                 0\n",
       "income_type            0\n",
       "debt                   0\n",
       "total_income           0\n",
       "purpose                0\n",
       "dtype: int64"
      ]
     },
     "execution_count": 10,
     "metadata": {},
     "output_type": "execute_result"
    }
   ],
   "source": [
    "# Словарь с медианными значениями total_income по сгрупперованной колонке income_type таблицы data\n",
    "total_income_median = data.groupby('income_type')['total_income'].median().to_dict()\n",
    "\n",
    "# Функция income_filter(), которая принимает один элемент серии, \n",
    "# проверяет значение total_income на пропуск методом pd.isna(), \n",
    "# если такое значение встречается, то возвращает значение из \n",
    "# словаря total_income_median, которое соответствует income_type в нем,\n",
    "# если нет, то возвращает изначально переденнаое значение total_income\n",
    "def income_filter(row):\n",
    "    if pd.isna(row['total_income']):\n",
    "        return total_income_median[row['income_type']]\n",
    "    return row['total_income']\n",
    "\n",
    "# Перезапишем значения для колонки total_income в таблице data, используя метод apply(),\n",
    "# в который передадим нашу функцию income_filter и параметр axis=1\n",
    "data['total_income'] = data.apply(income_filter, axis=1)\n",
    "\n",
    "\n",
    "# Проверим кол-во пропусков после перезаписи\n",
    "data.isnull().sum()"
   ]
  },
  {
   "cell_type": "markdown",
   "metadata": {},
   "source": [
    "Пропуски о ежемесячном доходе отсутствуют, перейдем к данным **days_employed** о стаже работы в днях. Выведем информацию о значениях столбца **days_employed** через метод **describe()**"
   ]
  },
  {
   "cell_type": "code",
   "execution_count": 11,
   "metadata": {},
   "outputs": [
    {
     "data": {
      "text/plain": [
       "count     19351.000000\n",
       "mean      63046.497661\n",
       "std      140827.311974\n",
       "min      -18388.949901\n",
       "25%       -2747.423625\n",
       "50%       -1203.369529\n",
       "75%        -291.095954\n",
       "max      401755.400475\n",
       "Name: days_employed, dtype: float64"
      ]
     },
     "execution_count": 11,
     "metadata": {},
     "output_type": "execute_result"
    }
   ],
   "source": [
    "# Вывод информации о данных столбца days_employed методом describe()\n",
    "data['days_employed'].describe()"
   ]
  },
  {
   "cell_type": "markdown",
   "metadata": {},
   "source": [
    "Встречаются как положительные, так и отрицательные значения. Попроуем проанализировать положительные значения. Посчитаем среднеарифметическое положительных значений колонки **days_employed** методом **mean()** и поделим на 365 дней, чтобы увидеть предпологаемое значение стажа в годах."
   ]
  },
  {
   "cell_type": "code",
   "execution_count": 12,
   "metadata": {},
   "outputs": [
    {
     "name": "stdout",
     "output_type": "stream",
     "text": [
      "Средний стаж 1000 лет\n"
     ]
    }
   ],
   "source": [
    "# Посчитаем средний стаж в годах, на примере среднеарифметического положительного значения колонки days_employed, поделив его на 365\n",
    "print('Средний стаж {:.0f} лет'.format((data[data['days_employed'] > 0]['days_employed'].mean())/365))"
   ]
  },
  {
   "cell_type": "code",
   "execution_count": 13,
   "metadata": {},
   "outputs": [
    {
     "data": {
      "text/html": [
       "<div>\n",
       "<style scoped>\n",
       "    .dataframe tbody tr th:only-of-type {\n",
       "        vertical-align: middle;\n",
       "    }\n",
       "\n",
       "    .dataframe tbody tr th {\n",
       "        vertical-align: top;\n",
       "    }\n",
       "\n",
       "    .dataframe thead th {\n",
       "        text-align: right;\n",
       "    }\n",
       "</style>\n",
       "<table border=\"1\" class=\"dataframe\">\n",
       "  <thead>\n",
       "    <tr style=\"text-align: right;\">\n",
       "      <th></th>\n",
       "      <th>children</th>\n",
       "      <th>days_employed</th>\n",
       "      <th>dob_years</th>\n",
       "      <th>education</th>\n",
       "      <th>education_id</th>\n",
       "      <th>family_status</th>\n",
       "      <th>family_status_id</th>\n",
       "      <th>gender</th>\n",
       "      <th>income_type</th>\n",
       "      <th>debt</th>\n",
       "      <th>total_income</th>\n",
       "      <th>purpose</th>\n",
       "    </tr>\n",
       "  </thead>\n",
       "  <tbody>\n",
       "    <tr>\n",
       "      <td>4</td>\n",
       "      <td>0</td>\n",
       "      <td>340266.072047</td>\n",
       "      <td>53</td>\n",
       "      <td>среднее</td>\n",
       "      <td>1</td>\n",
       "      <td>гражданский брак</td>\n",
       "      <td>1</td>\n",
       "      <td>f</td>\n",
       "      <td>пенсионер</td>\n",
       "      <td>0</td>\n",
       "      <td>158616.077870</td>\n",
       "      <td>сыграть свадьбу</td>\n",
       "    </tr>\n",
       "    <tr>\n",
       "      <td>18</td>\n",
       "      <td>0</td>\n",
       "      <td>400281.136913</td>\n",
       "      <td>53</td>\n",
       "      <td>среднее</td>\n",
       "      <td>1</td>\n",
       "      <td>вдовец / вдова</td>\n",
       "      <td>2</td>\n",
       "      <td>f</td>\n",
       "      <td>пенсионер</td>\n",
       "      <td>0</td>\n",
       "      <td>56823.777243</td>\n",
       "      <td>на покупку подержанного автомобиля</td>\n",
       "    </tr>\n",
       "    <tr>\n",
       "      <td>24</td>\n",
       "      <td>1</td>\n",
       "      <td>338551.952911</td>\n",
       "      <td>57</td>\n",
       "      <td>среднее</td>\n",
       "      <td>1</td>\n",
       "      <td>не женат / не замужем</td>\n",
       "      <td>4</td>\n",
       "      <td>f</td>\n",
       "      <td>пенсионер</td>\n",
       "      <td>0</td>\n",
       "      <td>290547.235997</td>\n",
       "      <td>операции с коммерческой недвижимостью</td>\n",
       "    </tr>\n",
       "    <tr>\n",
       "      <td>25</td>\n",
       "      <td>0</td>\n",
       "      <td>363548.489348</td>\n",
       "      <td>67</td>\n",
       "      <td>среднее</td>\n",
       "      <td>1</td>\n",
       "      <td>женат / замужем</td>\n",
       "      <td>0</td>\n",
       "      <td>m</td>\n",
       "      <td>пенсионер</td>\n",
       "      <td>0</td>\n",
       "      <td>55112.757732</td>\n",
       "      <td>покупка недвижимости</td>\n",
       "    </tr>\n",
       "    <tr>\n",
       "      <td>30</td>\n",
       "      <td>1</td>\n",
       "      <td>335581.668515</td>\n",
       "      <td>62</td>\n",
       "      <td>среднее</td>\n",
       "      <td>1</td>\n",
       "      <td>женат / замужем</td>\n",
       "      <td>0</td>\n",
       "      <td>f</td>\n",
       "      <td>пенсионер</td>\n",
       "      <td>0</td>\n",
       "      <td>171456.067993</td>\n",
       "      <td>операции с коммерческой недвижимостью</td>\n",
       "    </tr>\n",
       "  </tbody>\n",
       "</table>\n",
       "</div>"
      ],
      "text/plain": [
       "    children  days_employed  dob_years education  education_id  \\\n",
       "4          0  340266.072047         53   среднее             1   \n",
       "18         0  400281.136913         53   среднее             1   \n",
       "24         1  338551.952911         57   среднее             1   \n",
       "25         0  363548.489348         67   среднее             1   \n",
       "30         1  335581.668515         62   среднее             1   \n",
       "\n",
       "            family_status  family_status_id gender income_type  debt  \\\n",
       "4        гражданский брак                 1      f   пенсионер     0   \n",
       "18         вдовец / вдова                 2      f   пенсионер     0   \n",
       "24  не женат / не замужем                 4      f   пенсионер     0   \n",
       "25        женат / замужем                 0      m   пенсионер     0   \n",
       "30        женат / замужем                 0      f   пенсионер     0   \n",
       "\n",
       "     total_income                                purpose  \n",
       "4   158616.077870                        сыграть свадьбу  \n",
       "18   56823.777243     на покупку подержанного автомобиля  \n",
       "24  290547.235997  операции с коммерческой недвижимостью  \n",
       "25   55112.757732                   покупка недвижимости  \n",
       "30  171456.067993  операции с коммерческой недвижимостью  "
      ]
     },
     "execution_count": 13,
     "metadata": {},
     "output_type": "execute_result"
    }
   ],
   "source": [
    "# Получение первых 5 строк таблицы data с содержанием положительных значениях days_employed\n",
    "data[data['days_employed'] > 0].head()"
   ]
  },
  {
   "cell_type": "markdown",
   "metadata": {},
   "source": [
    "Подозрительно **большие числа для стажа в днях** и тем более в годах – **1000 лет**, значит у этих данных могла быть другая логика формирования. На практике это можно было бы уточнить у заказчика и сделать пересчет, если данные хранятся, допустим, в часах."
   ]
  },
  {
   "cell_type": "markdown",
   "metadata": {},
   "source": [
    "Также мы можем наблюдать некую корреляцию между данными с большим положительным числом в колонке со стажем **days_employed** и типом занятости **income_type**. Давайте проверим насколько эта связь близка. Посчитаем кол-во пересечений в значениях **days_employed > 0** и **income_type = 'пенсионер'** через метод *count()* и сравним кол-вом положительных значений в колонке **days_employed**."
   ]
  },
  {
   "cell_type": "code",
   "execution_count": 14,
   "metadata": {},
   "outputs": [
    {
     "name": "stdout",
     "output_type": "stream",
     "text": [
      "Кол-во значений \"пенсионер\": 3443\n",
      "Всего значений с положительным стажем: 3445\n"
     ]
    }
   ],
   "source": [
    "# Посчитаем кол-во значений методом count() удовлетворяющих условию days_employed > 0 и income_type = 'пенсионер'\n",
    "print('Кол-во значений \"пенсионер\":',data[(data['days_employed'] > 0) & \n",
    "                              (data['income_type'] == 'пенсионер')]['days_employed'].count())\n",
    "\n",
    "\n",
    "# Всего значений days_employed > 0 – положительных значений стажа в таблице data\n",
    "print('Всего значений с положительным стажем:', data[data['days_employed'] > 0]['days_employed'].count())"
   ]
  },
  {
   "cell_type": "markdown",
   "metadata": {},
   "source": [
    "Видна взаимосвязь положительных значений и типе занятости – \"*пенсионер*\" в колонке **days_employed** таблицы *data*. К сожалению вести дальнейшую работу с положительными значениями колонки **days_employed** нет смысла, в ввиду логической не корректности.\n",
    "\n",
    "Разберем отрицательные данные в стобце **days_employed** и попробуем понять их природу появления.\n",
    "\n",
    "Попробуем расчитать среднеарифметический стаж в годах из отрицательных значений методом *mean()*. Поделим данное значение на 365 и обернем в модуль **abs()**, чтобы получить положительное значение."
   ]
  },
  {
   "cell_type": "code",
   "execution_count": 15,
   "metadata": {},
   "outputs": [
    {
     "name": "stdout",
     "output_type": "stream",
     "text": [
      "Средний стаж в годах 6.4\n"
     ]
    }
   ],
   "source": [
    "# Модуль среднего стаж в годах\n",
    "print('Средний стаж в годах {:.1f}'.format(abs((data[data['days_employed'] < 0]['days_employed'].mean()) / 365)))"
   ]
  },
  {
   "cell_type": "markdown",
   "metadata": {},
   "source": [
    "Данные близки к действительности, но и их природа появления, также не особо ясна, как и положительных значений. Данные о стаже нам не особо важны, так как они не коррелируют с условием поставленной задачи Бизнеса, поэтому с обработкой пропусков можем поступить одним из предложенных способов:\n",
    "- оставить равным 0, чтобы при удалении пропусков строки остались и мы не потеряли часть важных данных;\n",
    "- дозаполнить среднеарифметическим или медианым из отрицательных значений колонки *days_employed*;\n",
    "- удалить колонку 'days_employed', посчитав ее \"мусорной\" для решения поставленных задач, в виду не корректности данных.\n",
    "\n",
    "Давайте удалим колонку **days_employed** методом **drop()** с параметром **axis=1** из нашей таблицы **data**"
   ]
  },
  {
   "cell_type": "code",
   "execution_count": 16,
   "metadata": {},
   "outputs": [
    {
     "data": {
      "text/plain": [
       "count    21525.000000\n",
       "mean         0.538908\n",
       "std          1.381587\n",
       "min         -1.000000\n",
       "25%          0.000000\n",
       "50%          0.000000\n",
       "75%          1.000000\n",
       "max         20.000000\n",
       "Name: children, dtype: float64"
      ]
     },
     "execution_count": 16,
     "metadata": {},
     "output_type": "execute_result"
    }
   ],
   "source": [
    "# Удаление колонки days_employed методом drop() с параметром axis=1\n",
    "data = data.drop('days_employed', axis=1)\n",
    "\n",
    "# Проверим значения одной из важных колонок children \n",
    "data['children'].describe()"
   ]
  },
  {
   "cell_type": "code",
   "execution_count": 17,
   "metadata": {},
   "outputs": [
    {
     "name": "stdout",
     "output_type": "stream",
     "text": [
      "Кол-во отрицательных значений: 47\n"
     ]
    }
   ],
   "source": [
    "print('Кол-во отрицательных значений:', data[ data['children'] == data['children'].min()]['children'].count())"
   ]
  },
  {
   "cell_type": "markdown",
   "metadata": {},
   "source": [
    "Таких анных не так много, скорее всего какой-то сбой системы, давайте переведем отрицательные значения в положительные через модуль **abs()**"
   ]
  },
  {
   "cell_type": "code",
   "execution_count": 18,
   "metadata": {},
   "outputs": [
    {
     "data": {
      "text/plain": [
       "children            0\n",
       "dob_years           0\n",
       "education           0\n",
       "education_id        0\n",
       "family_status       0\n",
       "family_status_id    0\n",
       "gender              0\n",
       "income_type         0\n",
       "debt                0\n",
       "total_income        0\n",
       "purpose             0\n",
       "dtype: int64"
      ]
     },
     "execution_count": 18,
     "metadata": {},
     "output_type": "execute_result"
    }
   ],
   "source": [
    "# Замена отрицательных значений на положительные в колонке children через модуль\n",
    "data['children'] = abs(data['children'])\n",
    "\n",
    "# Проверим пропуски в таблице data\n",
    "data.isnull().sum()"
   ]
  },
  {
   "cell_type": "markdown",
   "metadata": {},
   "source": [
    "## Вывод"
   ]
  },
  {
   "cell_type": "markdown",
   "metadata": {},
   "source": [
    "1. Пустые значения свидетельствуют о том, что информация о **трудовом стаже** и **ежемесячном доходе** для некоторых клиентах **не доступна**. Причины могут быть разные, но эти **данные отсутствуют у одних и тех же клиентов**. Скорее всего источник получения данных чем-то отличается и эта информация не передается в общую систему данных Заказчика.\n",
    "\n",
    "\n",
    "2. **Пропуски данных составили 10%** от общего кол-ва данных и это достаточно много, чтобы мы могли такими данными пренебречь. При этом **в них хранится информация** о важном показателе – **факте задолженности по кредиту**.\n",
    "\n",
    "\n",
    "3. Для заполнения пропусков о **ежемесячном доходе** мы вычислили **медианные значения** сгруппированных данных по типу занятости, которые являются более репрезентативными, чем среднеарифметическое значение, потому как этот метод **не подвержен влиянию больших цифр**.\n",
    "\n",
    "\n",
    "4. Пропуски в колонке **days_employed**, было решено удалить в виду неизвестной природы формирования значений, а также из-за отсутсвия связей с поставленными задачами Заказчиком. Хотя часть значений и коррелируют со столбцом **income_type**.\n",
    "\n",
    "\n",
    "5. В колонке **children** наблюдалось небольшое кол-во отрицательных значений, скорее всего это какая-то ошибка при внесении данных. Мы изменили отрицательные значения на положительные."
   ]
  },
  {
   "cell_type": "markdown",
   "metadata": {},
   "source": [
    "## Замена типа данных<a id=\"s2-3\"></a>"
   ]
  },
  {
   "cell_type": "markdown",
   "metadata": {},
   "source": [
    "Исходя из имеющихся данных о типах столбцов мы можем изменить тип **total_income** с *float64* на **int64**, здесь достаточно большие значения, в которых дробной частью можно пренебречь.\n",
    "\n",
    "После замены типа данных, запросим методом *info()* получившуюся информацию. А так же выведем 10 строк методом *head()*, чтобы увидеть визуальные изменения в данных. "
   ]
  },
  {
   "cell_type": "code",
   "execution_count": 19,
   "metadata": {},
   "outputs": [],
   "source": [
    "# Замена типа данных столбца total_income таблицы data на Integer\n",
    "data['total_income'] = data['total_income'].astype('int')"
   ]
  },
  {
   "cell_type": "code",
   "execution_count": 20,
   "metadata": {},
   "outputs": [
    {
     "name": "stdout",
     "output_type": "stream",
     "text": [
      "<class 'pandas.core.frame.DataFrame'>\n",
      "RangeIndex: 21525 entries, 0 to 21524\n",
      "Data columns (total 11 columns):\n",
      "children            21525 non-null int64\n",
      "dob_years           21525 non-null int64\n",
      "education           21525 non-null object\n",
      "education_id        21525 non-null int64\n",
      "family_status       21525 non-null object\n",
      "family_status_id    21525 non-null int64\n",
      "gender              21525 non-null object\n",
      "income_type         21525 non-null object\n",
      "debt                21525 non-null int64\n",
      "total_income        21525 non-null int64\n",
      "purpose             21525 non-null object\n",
      "dtypes: int64(6), object(5)\n",
      "memory usage: 1.8+ MB\n"
     ]
    }
   ],
   "source": [
    "# Просмотрим общую информацию о таблице data, чтобы удостовериться о замене типа данных \n",
    "data.info()"
   ]
  },
  {
   "cell_type": "code",
   "execution_count": 21,
   "metadata": {},
   "outputs": [
    {
     "data": {
      "text/html": [
       "<div>\n",
       "<style scoped>\n",
       "    .dataframe tbody tr th:only-of-type {\n",
       "        vertical-align: middle;\n",
       "    }\n",
       "\n",
       "    .dataframe tbody tr th {\n",
       "        vertical-align: top;\n",
       "    }\n",
       "\n",
       "    .dataframe thead th {\n",
       "        text-align: right;\n",
       "    }\n",
       "</style>\n",
       "<table border=\"1\" class=\"dataframe\">\n",
       "  <thead>\n",
       "    <tr style=\"text-align: right;\">\n",
       "      <th></th>\n",
       "      <th>children</th>\n",
       "      <th>dob_years</th>\n",
       "      <th>education</th>\n",
       "      <th>education_id</th>\n",
       "      <th>family_status</th>\n",
       "      <th>family_status_id</th>\n",
       "      <th>gender</th>\n",
       "      <th>income_type</th>\n",
       "      <th>debt</th>\n",
       "      <th>total_income</th>\n",
       "      <th>purpose</th>\n",
       "    </tr>\n",
       "  </thead>\n",
       "  <tbody>\n",
       "    <tr>\n",
       "      <td>0</td>\n",
       "      <td>1</td>\n",
       "      <td>42</td>\n",
       "      <td>высшее</td>\n",
       "      <td>0</td>\n",
       "      <td>женат / замужем</td>\n",
       "      <td>0</td>\n",
       "      <td>f</td>\n",
       "      <td>сотрудник</td>\n",
       "      <td>0</td>\n",
       "      <td>253875</td>\n",
       "      <td>покупка жилья</td>\n",
       "    </tr>\n",
       "    <tr>\n",
       "      <td>1</td>\n",
       "      <td>1</td>\n",
       "      <td>36</td>\n",
       "      <td>среднее</td>\n",
       "      <td>1</td>\n",
       "      <td>женат / замужем</td>\n",
       "      <td>0</td>\n",
       "      <td>f</td>\n",
       "      <td>сотрудник</td>\n",
       "      <td>0</td>\n",
       "      <td>112080</td>\n",
       "      <td>приобретение автомобиля</td>\n",
       "    </tr>\n",
       "    <tr>\n",
       "      <td>2</td>\n",
       "      <td>0</td>\n",
       "      <td>33</td>\n",
       "      <td>среднее</td>\n",
       "      <td>1</td>\n",
       "      <td>женат / замужем</td>\n",
       "      <td>0</td>\n",
       "      <td>m</td>\n",
       "      <td>сотрудник</td>\n",
       "      <td>0</td>\n",
       "      <td>145885</td>\n",
       "      <td>покупка жилья</td>\n",
       "    </tr>\n",
       "    <tr>\n",
       "      <td>3</td>\n",
       "      <td>3</td>\n",
       "      <td>32</td>\n",
       "      <td>среднее</td>\n",
       "      <td>1</td>\n",
       "      <td>женат / замужем</td>\n",
       "      <td>0</td>\n",
       "      <td>m</td>\n",
       "      <td>сотрудник</td>\n",
       "      <td>0</td>\n",
       "      <td>267628</td>\n",
       "      <td>дополнительное образование</td>\n",
       "    </tr>\n",
       "    <tr>\n",
       "      <td>4</td>\n",
       "      <td>0</td>\n",
       "      <td>53</td>\n",
       "      <td>среднее</td>\n",
       "      <td>1</td>\n",
       "      <td>гражданский брак</td>\n",
       "      <td>1</td>\n",
       "      <td>f</td>\n",
       "      <td>пенсионер</td>\n",
       "      <td>0</td>\n",
       "      <td>158616</td>\n",
       "      <td>сыграть свадьбу</td>\n",
       "    </tr>\n",
       "  </tbody>\n",
       "</table>\n",
       "</div>"
      ],
      "text/plain": [
       "   children  dob_years education  education_id     family_status  \\\n",
       "0         1         42    высшее             0   женат / замужем   \n",
       "1         1         36   среднее             1   женат / замужем   \n",
       "2         0         33   среднее             1   женат / замужем   \n",
       "3         3         32   среднее             1   женат / замужем   \n",
       "4         0         53   среднее             1  гражданский брак   \n",
       "\n",
       "   family_status_id gender income_type  debt  total_income  \\\n",
       "0                 0      f   сотрудник     0        253875   \n",
       "1                 0      f   сотрудник     0        112080   \n",
       "2                 0      m   сотрудник     0        145885   \n",
       "3                 0      m   сотрудник     0        267628   \n",
       "4                 1      f   пенсионер     0        158616   \n",
       "\n",
       "                      purpose  \n",
       "0               покупка жилья  \n",
       "1     приобретение автомобиля  \n",
       "2               покупка жилья  \n",
       "3  дополнительное образование  \n",
       "4             сыграть свадьбу  "
      ]
     },
     "execution_count": 21,
     "metadata": {},
     "output_type": "execute_result"
    }
   ],
   "source": [
    "# Выведем первые 5 строк таблицы data методом head()\n",
    "data.head()"
   ]
  },
  {
   "cell_type": "markdown",
   "metadata": {},
   "source": [
    "## Вывод"
   ]
  },
  {
   "cell_type": "markdown",
   "metadata": {},
   "source": [
    "При замене типа мы логически учли принятые нами данные и провели изменения в **total_income** *float64* => **int64**, здесь достаточно большие значения, в которых дробной частью можно пренебречь\n",
    "\n",
    "Изменеие типа данных уменьшило размер данных и упростило визуальную обработку."
   ]
  },
  {
   "cell_type": "markdown",
   "metadata": {},
   "source": [
    "## Обработка дубликатов<a id=\"s2-4\"></a>"
   ]
  },
  {
   "cell_type": "markdown",
   "metadata": {},
   "source": [
    "Давайте проверим кол-во дубликатов в нашей таблице *data*, используя метод **duplicated()** с подсчетом суммы значений – **sum()**. Искать дубликаты будем в рамках всех столбцов, т.к. у нас нет колонки с уникальным идентефикатором данных, чтобы проверку сделать именно по нему. Если такие значения найдем, то удаляем и проверяем, все ли удалилось."
   ]
  },
  {
   "cell_type": "code",
   "execution_count": 22,
   "metadata": {},
   "outputs": [
    {
     "data": {
      "text/plain": [
       "71"
      ]
     },
     "execution_count": 22,
     "metadata": {},
     "output_type": "execute_result"
    }
   ],
   "source": [
    "# Проверим кол-во дубликатов в нашей таблице *data* методом duplicated().sum()\n",
    "data.duplicated().sum()"
   ]
  },
  {
   "cell_type": "code",
   "execution_count": 23,
   "metadata": {},
   "outputs": [
    {
     "data": {
      "text/plain": [
       "0"
      ]
     },
     "execution_count": 23,
     "metadata": {},
     "output_type": "execute_result"
    }
   ],
   "source": [
    "# Удаляем дубликаты из нашей таблицы с перезаписью порядкового индекса\n",
    "data = data.drop_duplicates().reset_index(drop = True)\n",
    "\n",
    "# Перепроверим кол-во дублей в нашей таблице data\n",
    "data.duplicated().sum()"
   ]
  },
  {
   "cell_type": "markdown",
   "metadata": {},
   "source": [
    "## Вывод"
   ]
  },
  {
   "cell_type": "markdown",
   "metadata": {},
   "source": [
    "Мы удалили 71 дубликат, чтобы наши данные стали чище. Удаление дубликатов произвели только по полностью совпадающим строкам.\n",
    "\n",
    "**НО!** На самом деле, если у входных данных нет идентификаторов, которые реально могут нести в себе унакальность каждой строки, мы не должны избавляться от таких данных. Даже при таком кол-ве колонок в таблице, могут содержаться данные с повторяющимися значениями, соответствующим разным клиентам."
   ]
  },
  {
   "cell_type": "markdown",
   "metadata": {},
   "source": [
    "## Лемматизация<a id=\"s2-5\"></a>"
   ]
  },
  {
   "cell_type": "markdown",
   "metadata": {},
   "source": [
    "Мы имеем колонку **purpose** с целью получения кредита, мы можем лемматизировать ее значения в новый столбец **purpose_lem**. Импортируем библиотеку **pymystem3**, т.к. она лучше всех подходит **для лемматизации предложений на русском языке**. Нам необходимы **правильные словоформы**, чтобы в дальнейшем была возможность верно категоризировать эти данные. "
   ]
  },
  {
   "cell_type": "code",
   "execution_count": 24,
   "metadata": {},
   "outputs": [
    {
     "data": {
      "text/html": [
       "<div>\n",
       "<style scoped>\n",
       "    .dataframe tbody tr th:only-of-type {\n",
       "        vertical-align: middle;\n",
       "    }\n",
       "\n",
       "    .dataframe tbody tr th {\n",
       "        vertical-align: top;\n",
       "    }\n",
       "\n",
       "    .dataframe thead th {\n",
       "        text-align: right;\n",
       "    }\n",
       "</style>\n",
       "<table border=\"1\" class=\"dataframe\">\n",
       "  <thead>\n",
       "    <tr style=\"text-align: right;\">\n",
       "      <th></th>\n",
       "      <th>children</th>\n",
       "      <th>dob_years</th>\n",
       "      <th>education</th>\n",
       "      <th>education_id</th>\n",
       "      <th>family_status</th>\n",
       "      <th>family_status_id</th>\n",
       "      <th>gender</th>\n",
       "      <th>income_type</th>\n",
       "      <th>debt</th>\n",
       "      <th>total_income</th>\n",
       "      <th>purpose</th>\n",
       "      <th>purpose_lem</th>\n",
       "    </tr>\n",
       "  </thead>\n",
       "  <tbody>\n",
       "    <tr>\n",
       "      <td>0</td>\n",
       "      <td>1</td>\n",
       "      <td>42</td>\n",
       "      <td>высшее</td>\n",
       "      <td>0</td>\n",
       "      <td>женат / замужем</td>\n",
       "      <td>0</td>\n",
       "      <td>f</td>\n",
       "      <td>сотрудник</td>\n",
       "      <td>0</td>\n",
       "      <td>253875</td>\n",
       "      <td>покупка жилья</td>\n",
       "      <td>покупка   жилье \\n</td>\n",
       "    </tr>\n",
       "    <tr>\n",
       "      <td>1</td>\n",
       "      <td>1</td>\n",
       "      <td>36</td>\n",
       "      <td>среднее</td>\n",
       "      <td>1</td>\n",
       "      <td>женат / замужем</td>\n",
       "      <td>0</td>\n",
       "      <td>f</td>\n",
       "      <td>сотрудник</td>\n",
       "      <td>0</td>\n",
       "      <td>112080</td>\n",
       "      <td>приобретение автомобиля</td>\n",
       "      <td>приобретение   автомобиль \\n</td>\n",
       "    </tr>\n",
       "    <tr>\n",
       "      <td>2</td>\n",
       "      <td>0</td>\n",
       "      <td>33</td>\n",
       "      <td>среднее</td>\n",
       "      <td>1</td>\n",
       "      <td>женат / замужем</td>\n",
       "      <td>0</td>\n",
       "      <td>m</td>\n",
       "      <td>сотрудник</td>\n",
       "      <td>0</td>\n",
       "      <td>145885</td>\n",
       "      <td>покупка жилья</td>\n",
       "      <td>покупка   жилье \\n</td>\n",
       "    </tr>\n",
       "    <tr>\n",
       "      <td>3</td>\n",
       "      <td>3</td>\n",
       "      <td>32</td>\n",
       "      <td>среднее</td>\n",
       "      <td>1</td>\n",
       "      <td>женат / замужем</td>\n",
       "      <td>0</td>\n",
       "      <td>m</td>\n",
       "      <td>сотрудник</td>\n",
       "      <td>0</td>\n",
       "      <td>267628</td>\n",
       "      <td>дополнительное образование</td>\n",
       "      <td>дополнительный   образование \\n</td>\n",
       "    </tr>\n",
       "    <tr>\n",
       "      <td>4</td>\n",
       "      <td>0</td>\n",
       "      <td>53</td>\n",
       "      <td>среднее</td>\n",
       "      <td>1</td>\n",
       "      <td>гражданский брак</td>\n",
       "      <td>1</td>\n",
       "      <td>f</td>\n",
       "      <td>пенсионер</td>\n",
       "      <td>0</td>\n",
       "      <td>158616</td>\n",
       "      <td>сыграть свадьбу</td>\n",
       "      <td>сыграть   свадьба \\n</td>\n",
       "    </tr>\n",
       "  </tbody>\n",
       "</table>\n",
       "</div>"
      ],
      "text/plain": [
       "   children  dob_years education  education_id     family_status  \\\n",
       "0         1         42    высшее             0   женат / замужем   \n",
       "1         1         36   среднее             1   женат / замужем   \n",
       "2         0         33   среднее             1   женат / замужем   \n",
       "3         3         32   среднее             1   женат / замужем   \n",
       "4         0         53   среднее             1  гражданский брак   \n",
       "\n",
       "   family_status_id gender income_type  debt  total_income  \\\n",
       "0                 0      f   сотрудник     0        253875   \n",
       "1                 0      f   сотрудник     0        112080   \n",
       "2                 0      m   сотрудник     0        145885   \n",
       "3                 0      m   сотрудник     0        267628   \n",
       "4                 1      f   пенсионер     0        158616   \n",
       "\n",
       "                      purpose                      purpose_lem  \n",
       "0               покупка жилья               покупка   жилье \\n  \n",
       "1     приобретение автомобиля     приобретение   автомобиль \\n  \n",
       "2               покупка жилья               покупка   жилье \\n  \n",
       "3  дополнительное образование  дополнительный   образование \\n  \n",
       "4             сыграть свадьбу             сыграть   свадьба \\n  "
      ]
     },
     "execution_count": 24,
     "metadata": {},
     "output_type": "execute_result"
    }
   ],
   "source": [
    "# Применим к переменной m метод Mystem()\n",
    "m = Mystem()\n",
    "\n",
    "\n",
    "# Создадим функцию которая будет принимать один элемент серии, \n",
    "# а возвращать строку с разделенными значениями через пробел из\n",
    "# лемматизированного списока значений ключа purpose, этого элемента серии.\n",
    "def lemming(row):\n",
    "\n",
    "    return ' '.join(m.lemmatize(row['purpose']))\n",
    "\n",
    "\n",
    "\n",
    "# Создадим новый столбец purpose_lem с помощю apply(), \n",
    "# в которую помещаем нашу функцию lemming и параметр axis=1.\n",
    "# В purpose_lem будем хранить строку с нормальными словоформами из purpose\n",
    "data['purpose_lem'] = data.apply(lemming, axis=1)\n",
    "\n",
    "\n",
    "# Выведем первые 5 строк\n",
    "data.head()"
   ]
  },
  {
   "cell_type": "markdown",
   "metadata": {},
   "source": [
    "### Первый вариант формирования категорий через леммы <a id=\"lem_old\"></a><a id=\"s2-5-1\"></a>\n",
    "\n",
    "\n",
    "[Второй вариант формирования категорий](#lem_new)"
   ]
  },
  {
   "cell_type": "code",
   "execution_count": 25,
   "metadata": {},
   "outputs": [
    {
     "name": "stdout",
     "output_type": "stream",
     "text": [
      "{'подержать', 'свой', 'подержанный', 'сыграть', 'ремонт', 'сдача', 'дополнительный', 'операция', 'проведение', 'строительство', 'получение', 'жилой', 'свадьба', 'жилье', 'на', 'с', 'профильный', 'коммерческий', 'высокий', 'со', 'покупка', 'сделка', 'собственный', 'образование', 'автомобиль', 'семья', 'для', 'заниматься', 'недвижимость', 'приобретение'}\n"
     ]
    }
   ],
   "source": [
    "# Соберем множество всех значений из лемматизированного столбца purpose_lem\n",
    "# Сначала склеим все значения колоноки purpose_lem с помощью ''.join(), \n",
    "# разобъем на список из отдельных слов, через split(), а затем оставим \n",
    "# только уникальные значения методом set(), все это запишем в words\n",
    "words_old = set((''.join(data['purpose_lem'])).split())\n",
    "\n",
    "# Выведем наше множество words\n",
    "print(words_old)"
   ]
  },
  {
   "cell_type": "markdown",
   "metadata": {},
   "source": [
    "### Второй вариант формирование списка для целей получения кредита <a id=\"lem_new\"></a><a id=\"s2-5-2\"></a>\n",
    "\n",
    "Создадим датафрейм **purpose_words** на основе **частоты упоминаний** в лемматизированной колонке **purpose_lem**"
   ]
  },
  {
   "cell_type": "code",
   "execution_count": 26,
   "metadata": {},
   "outputs": [
    {
     "data": {
      "text/html": [
       "<div>\n",
       "<style scoped>\n",
       "    .dataframe tbody tr th:only-of-type {\n",
       "        vertical-align: middle;\n",
       "    }\n",
       "\n",
       "    .dataframe tbody tr th {\n",
       "        vertical-align: top;\n",
       "    }\n",
       "\n",
       "    .dataframe thead th {\n",
       "        text-align: right;\n",
       "    }\n",
       "</style>\n",
       "<table border=\"1\" class=\"dataframe\">\n",
       "  <thead>\n",
       "    <tr style=\"text-align: right;\">\n",
       "      <th></th>\n",
       "      <th>name</th>\n",
       "      <th>count</th>\n",
       "    </tr>\n",
       "  </thead>\n",
       "  <tbody>\n",
       "    <tr>\n",
       "      <td>0</td>\n",
       "      <td>недвижимость</td>\n",
       "      <td>6351</td>\n",
       "    </tr>\n",
       "    <tr>\n",
       "      <td>1</td>\n",
       "      <td>покупка</td>\n",
       "      <td>5897</td>\n",
       "    </tr>\n",
       "    <tr>\n",
       "      <td>2</td>\n",
       "      <td>жилье</td>\n",
       "      <td>4460</td>\n",
       "    </tr>\n",
       "    <tr>\n",
       "      <td>3</td>\n",
       "      <td>автомобиль</td>\n",
       "      <td>4306</td>\n",
       "    </tr>\n",
       "    <tr>\n",
       "      <td>4</td>\n",
       "      <td>образование</td>\n",
       "      <td>4013</td>\n",
       "    </tr>\n",
       "    <tr>\n",
       "      <td>5</td>\n",
       "      <td>с</td>\n",
       "      <td>2918</td>\n",
       "    </tr>\n",
       "    <tr>\n",
       "      <td>6</td>\n",
       "      <td>операция</td>\n",
       "      <td>2604</td>\n",
       "    </tr>\n",
       "    <tr>\n",
       "      <td>7</td>\n",
       "      <td>свадьба</td>\n",
       "      <td>2324</td>\n",
       "    </tr>\n",
       "    <tr>\n",
       "      <td>8</td>\n",
       "      <td>свой</td>\n",
       "      <td>2230</td>\n",
       "    </tr>\n",
       "    <tr>\n",
       "      <td>9</td>\n",
       "      <td>на</td>\n",
       "      <td>2222</td>\n",
       "    </tr>\n",
       "  </tbody>\n",
       "</table>\n",
       "</div>"
      ],
      "text/plain": [
       "           name  count\n",
       "0  недвижимость   6351\n",
       "1       покупка   5897\n",
       "2         жилье   4460\n",
       "3    автомобиль   4306\n",
       "4   образование   4013\n",
       "5             с   2918\n",
       "6      операция   2604\n",
       "7       свадьба   2324\n",
       "8          свой   2230\n",
       "9            на   2222"
      ]
     },
     "execution_count": 26,
     "metadata": {},
     "output_type": "execute_result"
    }
   ],
   "source": [
    "# Соберем словарь words из кол-ва уникальных значений\n",
    "# лемматизированной колонки purpose_lem, посчитанным методом Counter()\n",
    "words = dict(Counter((''.join(data['purpose_lem'])).split()))\n",
    "\n",
    "\n",
    "# Создадим датафрейм purpose_words из словаря words, где \n",
    "# ключ: значение будут записаны в колонки name и count соответственно\n",
    "# отсортируем датафрейм по убыванию в count\n",
    "purpose_words = pd.DataFrame(list(words.items()), \n",
    "                             columns=['name', 'count']).sort_values(by='count', \n",
    "                                                                    ascending = False).reset_index(drop = True)\n",
    "\n",
    "# выведем первые 10 строк purpose_words\n",
    "purpose_words.head(10)"
   ]
  },
  {
   "cell_type": "markdown",
   "metadata": {},
   "source": [
    "Получили первичный список для категоризации целей кредита. \n",
    "* **недвижимость** и **жилье**, но можно будет разделить этот тип на **ком.недвижимость**, используя дополнительное условие проверки по ключу **коммерческий**, а все остальное **жилье** – все-таки это разный вид недвижимости.\n",
    "* **автомобиль**\n",
    "* **образование**\n",
    "* **свадьба**\n",
    "\n",
    "Также встречается слово **операция** в словосочитаниях с разным видом недвижимости, в том числе и жилья. Давайте проверим, живет ли это слово как отдельная категория - **лечение**\n",
    "\n",
    "Создадим цикл-проверку на вхождение слова **операция** в сочетании со словани **недвижимость** и **жилье** в лемматизированную строку **purpose_lem** <a id=\"ret\"></a>"
   ]
  },
  {
   "cell_type": "code",
   "execution_count": 27,
   "metadata": {},
   "outputs": [
    {
     "name": "stdout",
     "output_type": "stream",
     "text": [
      "Строк со словом \"операция\", но без \"недвижимость\" или \"жилье\": 0\n"
     ]
    }
   ],
   "source": [
    "# зададим переменную count для счетчика\n",
    "count = 0\n",
    "\n",
    "# Посчитаем есть ли строки с 'операция' без 'недвижимость' или 'жилье'\n",
    "# Запустим цикл длиной датафрейма data\n",
    "for item in range(len(data)):\n",
    "    \n",
    "    # присвоим переменной text строку из ячейки purpose_lem\n",
    "    text = data.loc[item, 'purpose_lem']\n",
    "    \n",
    "    # найдем все строки с ключем 'операция'\n",
    "    if 'операция' in text: \n",
    "        \n",
    "        # а так же 'недвижимость'\n",
    "        if 'недвижимость' in text:    \n",
    "            pass\n",
    "        \n",
    "        # и жилье\n",
    "        elif 'жилье' in text:\n",
    "            pass\n",
    "        \n",
    "        # если таких пересечений, которые были выше - не будет, то запустим счетчик\n",
    "        else:                        \n",
    "            count += 1\n",
    "            \n",
    "print('Строк со словом \"операция\", но без \"недвижимость\" или \"жилье\":', count)        "
   ]
  },
  {
   "cell_type": "markdown",
   "metadata": {},
   "source": [
    "## Вывод"
   ]
  },
  {
   "cell_type": "markdown",
   "metadata": {},
   "source": [
    "Для лемматизации мы использовали библиотеку **pymystem3**, так как она лучше всего подходит для работы **с предложениями на русском языке**. Тем более нам необходимы слова в нормальной форме. Создали новую колонку **purpose_lem** с лемматизированными строками значений **purpose**.\n",
    "\n",
    "Выделили категории для целей получения кредита: **ком.недвижимость, жилье, автомобиль, образование, свадьба**\n",
    "\n",
    "Ключевое слово **операция** в наших данных относится только к **недвижимости** или **жилью**"
   ]
  },
  {
   "cell_type": "markdown",
   "metadata": {},
   "source": [
    "## Категоризация данных<a id=\"s2-6\"></a>"
   ]
  },
  {
   "cell_type": "markdown",
   "metadata": {},
   "source": [
    "Категоризируем наши данные в нескольких колонках:\n",
    "- **children**\n",
    "- **total_income**\n",
    "- **purpose**\n",
    "- **debt**\n",
    "\n",
    "для **family_status** категории уже имеются"
   ]
  },
  {
   "cell_type": "markdown",
   "metadata": {},
   "source": [
    "### Категоризируем данные о наличии детей, т.к. нам необходимо будет дать ответ на вопрос: <a id=\"s2-6-1\"></a>\n",
    "* Есть ли зависимость между наличием детей и возвратом кредита в срок?\n",
    "\n",
    "то выделим 2 категории: **без детей** и  **с детьми**"
   ]
  },
  {
   "cell_type": "code",
   "execution_count": 28,
   "metadata": {},
   "outputs": [],
   "source": [
    "# Напишем функцию, которая будет принимать элемент серии датафрейма и\n",
    "# в зависимости от значения в children будет отдавать значение по условию\n",
    "def child_group(child_count):\n",
    "    \n",
    "    if child_count['children'] == 0: # если 0, то 'без детей'\n",
    "        return 'без детей'\n",
    "    \n",
    "    return 'с детьми' # во всех остальных 'с детьми'\n",
    "        \n",
    "\n",
    "# Создадим столбец children_group и запишим в него значения данных через\n",
    "# метод apply() с функцией child_group и параметром axis=1\n",
    "data['children_group'] = data.apply(child_group, axis=1)"
   ]
  },
  {
   "cell_type": "markdown",
   "metadata": {},
   "source": [
    "### Категоризируем данные о ежемесячном доходе <a id=\"s2-6-2\"></a>\n",
    "\n",
    "Для разделения на категори о ежемесячном доходе, будем использовать квантели по **total_income**. \n",
    "\n",
    "Узнаем значения на пересечении **0.25, 0.5 и 0.75** квантели - получим 4 группы. Использовать будем метод **quantile()**"
   ]
  },
  {
   "cell_type": "code",
   "execution_count": 29,
   "metadata": {},
   "outputs": [
    {
     "data": {
      "text/plain": [
       "0.25    107623.00\n",
       "0.50    142594.00\n",
       "0.75    195820.25\n",
       "Name: total_income, dtype: float64"
      ]
     },
     "execution_count": 29,
     "metadata": {},
     "output_type": "execute_result"
    }
   ],
   "source": [
    "data['total_income'].quantile([0.25, 0.5, 0.75])"
   ]
  },
  {
   "cell_type": "markdown",
   "metadata": {},
   "source": [
    "Чтобы в итоговых данных категоризация была интуитивно понятна, внесем в названия количественные значения:\n",
    "* до 107т.р.\n",
    "* от 107 до 142т.р.\n",
    "* от 142 до 195т.р.\n",
    "* от 195т.р."
   ]
  },
  {
   "cell_type": "code",
   "execution_count": 30,
   "metadata": {},
   "outputs": [],
   "source": [
    "# Напишем функцию, которая будет принимать элемент серии датафрейма и\n",
    "# в зависимости от значения в total_income будет отдавать значение по условию\n",
    "def income_group(row):\n",
    "    \n",
    "    if row['total_income'] <= 107000: # доход до 107т.р..\n",
    "        return 'до 107т.р.'\n",
    "    \n",
    "    if row['total_income'] <= 142000: # доход от 107 до 142т.р.\n",
    "        return 'от 107 до 142т.р.'\n",
    "    \n",
    "    if row['total_income'] <= 195000: # доход от 142 до 195т.р. \n",
    "        return 'от 142 до 195т.р.'\n",
    "    \n",
    "    return 'от 195т.р.' # во всех остальных 'от 195т.р.'\n",
    "        \n",
    "\n",
    "# Создадим столбец total_income_group и запишим в него значения данных через\n",
    "# метод apply() с функцией income_group и параметром axis=1\n",
    "data['total_income_group'] = data.apply(income_group, axis=1)"
   ]
  },
  {
   "cell_type": "markdown",
   "metadata": {},
   "source": [
    "### Категоризируем данные о целях получения кредита <a id=\"s2-6-3\"></a>\n",
    "\n",
    "* **ком.недвижимость**\n",
    "* **жилье**\n",
    "* **автомобиль**\n",
    "* **образование**\n",
    "* **свадьба**. \n",
    "\n",
    "После формирования категорий, проверим таблицу **data на пропуски**."
   ]
  },
  {
   "cell_type": "code",
   "execution_count": 31,
   "metadata": {},
   "outputs": [],
   "source": [
    "# Функция, которая принимает один элемент серии и проверяет \n",
    "# вхождение ключевого слова в элемент purpose_lem этой серии\n",
    "# проверка осуществяется по ключевым словам:\n",
    "# автомобиль, свадьба, жилье, недвижимость и образование\n",
    "def purpose_grouping(row):\n",
    "    \n",
    "    if 'автомобиль' in row['purpose_lem']:\n",
    "        return 'автомобиль'\n",
    "    \n",
    "    if 'свадьба' in row['purpose_lem']:\n",
    "        return 'свадьба'\n",
    "    \n",
    "    if 'образование' in row['purpose_lem']:\n",
    "        return 'образование'\n",
    "    \n",
    "    if 'жилье' or 'недвижимость' in row['purpose_lem']:\n",
    "        if 'коммерческий' in row['purpose_lem']:\n",
    "            return 'ком.недвижимость'\n",
    "        else:\n",
    "            return 'жилье'\n",
    "\n",
    "\n",
    "    \n",
    "# Создадим новый столбец purpose_group, который заполним значениями согласно\n",
    "# функции purpose_grouping, через метод apply() с параметром axis=1\n",
    "data['purpose_group'] = data.apply(purpose_grouping, axis=1)"
   ]
  },
  {
   "cell_type": "code",
   "execution_count": 32,
   "metadata": {},
   "outputs": [
    {
     "data": {
      "text/plain": [
       "children              0\n",
       "dob_years             0\n",
       "education             0\n",
       "education_id          0\n",
       "family_status         0\n",
       "family_status_id      0\n",
       "gender                0\n",
       "income_type           0\n",
       "debt                  0\n",
       "total_income          0\n",
       "purpose               0\n",
       "purpose_lem           0\n",
       "children_group        0\n",
       "total_income_group    0\n",
       "purpose_group         0\n",
       "dtype: int64"
      ]
     },
     "execution_count": 32,
     "metadata": {},
     "output_type": "execute_result"
    }
   ],
   "source": [
    "data.isnull().sum()"
   ]
  },
  {
   "cell_type": "markdown",
   "metadata": {},
   "source": [
    "### Категоризируем данные о факте несвоевременных выплат кредита<a id=\"s2-6-4\"></a>\n",
    "\n",
    "* **красавчики** – если, задолженносте не было\n",
    "* **должники** – в обратном случае "
   ]
  },
  {
   "cell_type": "code",
   "execution_count": 33,
   "metadata": {},
   "outputs": [
    {
     "name": "stdout",
     "output_type": "stream",
     "text": [
      "<class 'pandas.core.frame.DataFrame'>\n",
      "RangeIndex: 21454 entries, 0 to 21453\n",
      "Data columns (total 16 columns):\n",
      "children              21454 non-null int64\n",
      "dob_years             21454 non-null int64\n",
      "education             21454 non-null object\n",
      "education_id          21454 non-null int64\n",
      "family_status         21454 non-null object\n",
      "family_status_id      21454 non-null int64\n",
      "gender                21454 non-null object\n",
      "income_type           21454 non-null object\n",
      "debt                  21454 non-null int64\n",
      "total_income          21454 non-null int64\n",
      "purpose               21454 non-null object\n",
      "purpose_lem           21454 non-null object\n",
      "children_group        21454 non-null object\n",
      "total_income_group    21454 non-null object\n",
      "purpose_group         21454 non-null object\n",
      "debt_group            21454 non-null object\n",
      "dtypes: int64(6), object(10)\n",
      "memory usage: 2.6+ MB\n"
     ]
    }
   ],
   "source": [
    "def debt_grouping(row):\n",
    "    \n",
    "    if row['debt'] == 0:\n",
    "        return 'красавчики'\n",
    "    \n",
    "    return 'должники'\n",
    "    \n",
    "\n",
    "# Создадим новый столбец purpose_group\n",
    "data['debt_group'] = data.apply(debt_grouping, axis=1)\n",
    "\n",
    "# Выведим общую информацию о таблице data\n",
    "data.info()"
   ]
  },
  {
   "cell_type": "markdown",
   "metadata": {},
   "source": [
    "## Вывод"
   ]
  },
  {
   "cell_type": "markdown",
   "metadata": {},
   "source": [
    "Мы провели категоризацию основных данных в колонках, для дальнейшего исследования:\n",
    "- **children** выделили 2 группы:\n",
    "  - **без детей**\n",
    "  - **с детьми**\n",
    "\n",
    "\n",
    "- **total_income** выделили 4 групп:\n",
    "  - **до 107т.р.**\n",
    "  - **от 107 до 142т.р.**\n",
    "  - **от 142 до 195т.р.**\n",
    "  - **от 195т.р.**\n",
    "\n",
    "\n",
    "Ежемесячный доход разбили на большее кол-во групп, детальнее взяли данные со значениями менее 300 000\n",
    "\n",
    "\n",
    "- **purpose** – цель получения кредита:\n",
    "  - **автомобиль**\n",
    "  - **свадьба**\n",
    "  - **образование**\n",
    "  - **жилье**\n",
    "  - **ком.недвижимость**\n",
    "  \n",
    "Данные для **purpose** – цель получения кредита, формировали на основе лемматизации. Разделили жилье и ком.недвижимость.\n",
    "\n",
    "\n",
    "- **debt** разделили на 2 группы:\n",
    "  - **должники**\n",
    "  - **красавчики**"
   ]
  },
  {
   "cell_type": "markdown",
   "metadata": {},
   "source": [
    "## Шаг 3. Ответьте на вопросы<a id=\"s3\"></a>"
   ]
  },
  {
   "cell_type": "markdown",
   "metadata": {},
   "source": [
    "Сформируем функцию, которая будет принимать датафрейм и название колонки, по которой будем формировать сводные таблицы для разных вопросов. Передавать будем именно ту колонку, расчет должников с которой и будем сравнивать для каждого из вопросов."
   ]
  },
  {
   "cell_type": "code",
   "execution_count": 34,
   "metadata": {},
   "outputs": [],
   "source": [
    "# Функция для подготовки сводной таблицы на основе категоризированной колонки данных\n",
    "# и информации о задолженности по кредиту с выводом процента ljk;ybrjd\n",
    "def pivot_func(df, column):\n",
    "    \n",
    "    # применим pivot_table для входящего датафрейма в df, а столбец для index=[]\n",
    "    # заберем из column, группировать всегда будем по debet_group, значения заберем\n",
    "    # из debt с подсчетом count\n",
    "    pivot = df.pivot_table(index=[column], columns='debt_group', values='debt', aggfunc='count')\n",
    "    \n",
    "    # создадим столбец для расчета процента должников от общего кол-ва группы\n",
    "    pivot['% должников'] = pivot['должники'] / (pivot['красавчики'] + pivot['должники']) * 100\n",
    "    \n",
    "    # для процентов выведем значения с двумя знаками после запятой\n",
    "    pivot['% должников'] = round(pivot['% должников'], 2)\n",
    "    \n",
    "    # отсортируем значения по столбцу с процентами по убыванию\n",
    "    pivot = pivot.sort_values(by = '% должников', ascending = False)\n",
    "    \n",
    "    return pivot"
   ]
  },
  {
   "cell_type": "markdown",
   "metadata": {},
   "source": [
    "### - Есть ли зависимость между наличием детей и возвратом кредита в срок?<a id=\"s3-1\"></a>"
   ]
  },
  {
   "cell_type": "code",
   "execution_count": 35,
   "metadata": {},
   "outputs": [
    {
     "data": {
      "text/html": [
       "<div>\n",
       "<style scoped>\n",
       "    .dataframe tbody tr th:only-of-type {\n",
       "        vertical-align: middle;\n",
       "    }\n",
       "\n",
       "    .dataframe tbody tr th {\n",
       "        vertical-align: top;\n",
       "    }\n",
       "\n",
       "    .dataframe thead th {\n",
       "        text-align: right;\n",
       "    }\n",
       "</style>\n",
       "<table border=\"1\" class=\"dataframe\">\n",
       "  <thead>\n",
       "    <tr style=\"text-align: right;\">\n",
       "      <th>debt_group</th>\n",
       "      <th>должники</th>\n",
       "      <th>красавчики</th>\n",
       "      <th>% должников</th>\n",
       "    </tr>\n",
       "    <tr>\n",
       "      <th>children_group</th>\n",
       "      <th></th>\n",
       "      <th></th>\n",
       "      <th></th>\n",
       "    </tr>\n",
       "  </thead>\n",
       "  <tbody>\n",
       "    <tr>\n",
       "      <td>с детьми</td>\n",
       "      <td>678</td>\n",
       "      <td>6685</td>\n",
       "      <td>9.21</td>\n",
       "    </tr>\n",
       "    <tr>\n",
       "      <td>без детей</td>\n",
       "      <td>1063</td>\n",
       "      <td>13028</td>\n",
       "      <td>7.54</td>\n",
       "    </tr>\n",
       "  </tbody>\n",
       "</table>\n",
       "</div>"
      ],
      "text/plain": [
       "debt_group      должники  красавчики  % должников\n",
       "children_group                                   \n",
       "с детьми             678        6685         9.21\n",
       "без детей           1063       13028         7.54"
      ]
     },
     "execution_count": 35,
     "metadata": {},
     "output_type": "execute_result"
    }
   ],
   "source": [
    "pivot_func(data, 'children_group')"
   ]
  },
  {
   "cell_type": "markdown",
   "metadata": {},
   "source": [
    "## Вывод"
   ]
  },
  {
   "cell_type": "markdown",
   "metadata": {},
   "source": [
    "Доля тех кто **не имеет детей**, более **ответственно подходят** к долговым обязательствам перед ними."
   ]
  },
  {
   "cell_type": "markdown",
   "metadata": {},
   "source": [
    "### - Есть ли зависимость между семейным положением и возвратом кредита в срок?<a id=\"s3-2\"></a>"
   ]
  },
  {
   "cell_type": "code",
   "execution_count": 36,
   "metadata": {},
   "outputs": [
    {
     "data": {
      "text/html": [
       "<div>\n",
       "<style scoped>\n",
       "    .dataframe tbody tr th:only-of-type {\n",
       "        vertical-align: middle;\n",
       "    }\n",
       "\n",
       "    .dataframe tbody tr th {\n",
       "        vertical-align: top;\n",
       "    }\n",
       "\n",
       "    .dataframe thead th {\n",
       "        text-align: right;\n",
       "    }\n",
       "</style>\n",
       "<table border=\"1\" class=\"dataframe\">\n",
       "  <thead>\n",
       "    <tr style=\"text-align: right;\">\n",
       "      <th>debt_group</th>\n",
       "      <th>должники</th>\n",
       "      <th>красавчики</th>\n",
       "      <th>% должников</th>\n",
       "    </tr>\n",
       "    <tr>\n",
       "      <th>family_status</th>\n",
       "      <th></th>\n",
       "      <th></th>\n",
       "      <th></th>\n",
       "    </tr>\n",
       "  </thead>\n",
       "  <tbody>\n",
       "    <tr>\n",
       "      <td>не женат / не замужем</td>\n",
       "      <td>274</td>\n",
       "      <td>2536</td>\n",
       "      <td>9.75</td>\n",
       "    </tr>\n",
       "    <tr>\n",
       "      <td>гражданский брак</td>\n",
       "      <td>388</td>\n",
       "      <td>3763</td>\n",
       "      <td>9.35</td>\n",
       "    </tr>\n",
       "    <tr>\n",
       "      <td>женат / замужем</td>\n",
       "      <td>931</td>\n",
       "      <td>11408</td>\n",
       "      <td>7.55</td>\n",
       "    </tr>\n",
       "    <tr>\n",
       "      <td>в разводе</td>\n",
       "      <td>85</td>\n",
       "      <td>1110</td>\n",
       "      <td>7.11</td>\n",
       "    </tr>\n",
       "    <tr>\n",
       "      <td>вдовец / вдова</td>\n",
       "      <td>63</td>\n",
       "      <td>896</td>\n",
       "      <td>6.57</td>\n",
       "    </tr>\n",
       "  </tbody>\n",
       "</table>\n",
       "</div>"
      ],
      "text/plain": [
       "debt_group             должники  красавчики  % должников\n",
       "family_status                                           \n",
       "не женат / не замужем       274        2536         9.75\n",
       "гражданский брак            388        3763         9.35\n",
       "женат / замужем             931       11408         7.55\n",
       "в разводе                    85        1110         7.11\n",
       "вдовец / вдова               63         896         6.57"
      ]
     },
     "execution_count": 36,
     "metadata": {},
     "output_type": "execute_result"
    }
   ],
   "source": [
    "pivot_func(data, 'family_status')"
   ]
  },
  {
   "cell_type": "markdown",
   "metadata": {},
   "source": [
    "## Вывод"
   ]
  },
  {
   "cell_type": "markdown",
   "metadata": {},
   "source": [
    "Люди, которые находятся в **официальном браке**, **разведены** или **потерявшие вторую половину** несут бОльшую ответственность и осознанность перед банком, нежели люди, которые **не в браке** или находятся **в гражданском браке**"
   ]
  },
  {
   "cell_type": "markdown",
   "metadata": {},
   "source": [
    "### - Есть ли зависимость между уровнем дохода и возвратом кредита в срок?<a id=\"s3-3\"></a>"
   ]
  },
  {
   "cell_type": "code",
   "execution_count": 37,
   "metadata": {},
   "outputs": [
    {
     "data": {
      "text/html": [
       "<div>\n",
       "<style scoped>\n",
       "    .dataframe tbody tr th:only-of-type {\n",
       "        vertical-align: middle;\n",
       "    }\n",
       "\n",
       "    .dataframe tbody tr th {\n",
       "        vertical-align: top;\n",
       "    }\n",
       "\n",
       "    .dataframe thead th {\n",
       "        text-align: right;\n",
       "    }\n",
       "</style>\n",
       "<table border=\"1\" class=\"dataframe\">\n",
       "  <thead>\n",
       "    <tr style=\"text-align: right;\">\n",
       "      <th>debt_group</th>\n",
       "      <th>должники</th>\n",
       "      <th>красавчики</th>\n",
       "      <th>% должников</th>\n",
       "    </tr>\n",
       "    <tr>\n",
       "      <th>total_income_group</th>\n",
       "      <th></th>\n",
       "      <th></th>\n",
       "      <th></th>\n",
       "    </tr>\n",
       "  </thead>\n",
       "  <tbody>\n",
       "    <tr>\n",
       "      <td>от 142 до 195т.р.</td>\n",
       "      <td>550</td>\n",
       "      <td>5781</td>\n",
       "      <td>8.69</td>\n",
       "    </tr>\n",
       "    <tr>\n",
       "      <td>от 107 до 142т.р.</td>\n",
       "      <td>379</td>\n",
       "      <td>4013</td>\n",
       "      <td>8.63</td>\n",
       "    </tr>\n",
       "    <tr>\n",
       "      <td>до 107т.р.</td>\n",
       "      <td>423</td>\n",
       "      <td>4884</td>\n",
       "      <td>7.97</td>\n",
       "    </tr>\n",
       "    <tr>\n",
       "      <td>от 195т.р.</td>\n",
       "      <td>389</td>\n",
       "      <td>5035</td>\n",
       "      <td>7.17</td>\n",
       "    </tr>\n",
       "  </tbody>\n",
       "</table>\n",
       "</div>"
      ],
      "text/plain": [
       "debt_group          должники  красавчики  % должников\n",
       "total_income_group                                   \n",
       "от 142 до 195т.р.        550        5781         8.69\n",
       "от 107 до 142т.р.        379        4013         8.63\n",
       "до 107т.р.               423        4884         7.97\n",
       "от 195т.р.               389        5035         7.17"
      ]
     },
     "execution_count": 37,
     "metadata": {},
     "output_type": "execute_result"
    }
   ],
   "source": [
    "pivot_func(data, 'total_income_group')"
   ]
  },
  {
   "cell_type": "markdown",
   "metadata": {},
   "source": [
    "## Вывод"
   ]
  },
  {
   "cell_type": "markdown",
   "metadata": {},
   "source": [
    "**Злостные неплательшики** – люди **со средним** доходом. Кординально **противоположны** в своем отношении к банку, **люди** либо **с низким достатком**, либо наоборот – **выше среднего**."
   ]
  },
  {
   "cell_type": "markdown",
   "metadata": {},
   "source": [
    "### - Как разные цели кредита влияют на его возврат в срок?<a id=\"s3-4\"></a>"
   ]
  },
  {
   "cell_type": "code",
   "execution_count": 38,
   "metadata": {},
   "outputs": [
    {
     "data": {
      "text/html": [
       "<div>\n",
       "<style scoped>\n",
       "    .dataframe tbody tr th:only-of-type {\n",
       "        vertical-align: middle;\n",
       "    }\n",
       "\n",
       "    .dataframe tbody tr th {\n",
       "        vertical-align: top;\n",
       "    }\n",
       "\n",
       "    .dataframe thead th {\n",
       "        text-align: right;\n",
       "    }\n",
       "</style>\n",
       "<table border=\"1\" class=\"dataframe\">\n",
       "  <thead>\n",
       "    <tr style=\"text-align: right;\">\n",
       "      <th>debt_group</th>\n",
       "      <th>должники</th>\n",
       "      <th>красавчики</th>\n",
       "      <th>% должников</th>\n",
       "    </tr>\n",
       "    <tr>\n",
       "      <th>purpose_group</th>\n",
       "      <th></th>\n",
       "      <th></th>\n",
       "      <th></th>\n",
       "    </tr>\n",
       "  </thead>\n",
       "  <tbody>\n",
       "    <tr>\n",
       "      <td>автомобиль</td>\n",
       "      <td>403</td>\n",
       "      <td>3903</td>\n",
       "      <td>9.36</td>\n",
       "    </tr>\n",
       "    <tr>\n",
       "      <td>образование</td>\n",
       "      <td>370</td>\n",
       "      <td>3643</td>\n",
       "      <td>9.22</td>\n",
       "    </tr>\n",
       "    <tr>\n",
       "      <td>свадьба</td>\n",
       "      <td>186</td>\n",
       "      <td>2138</td>\n",
       "      <td>8.00</td>\n",
       "    </tr>\n",
       "    <tr>\n",
       "      <td>ком.недвижимость</td>\n",
       "      <td>99</td>\n",
       "      <td>1212</td>\n",
       "      <td>7.55</td>\n",
       "    </tr>\n",
       "    <tr>\n",
       "      <td>жилье</td>\n",
       "      <td>683</td>\n",
       "      <td>8817</td>\n",
       "      <td>7.19</td>\n",
       "    </tr>\n",
       "  </tbody>\n",
       "</table>\n",
       "</div>"
      ],
      "text/plain": [
       "debt_group        должники  красавчики  % должников\n",
       "purpose_group                                      \n",
       "автомобиль             403        3903         9.36\n",
       "образование            370        3643         9.22\n",
       "свадьба                186        2138         8.00\n",
       "ком.недвижимость        99        1212         7.55\n",
       "жилье                  683        8817         7.19"
      ]
     },
     "execution_count": 38,
     "metadata": {},
     "output_type": "execute_result"
    }
   ],
   "source": [
    "pivot_func(data, 'purpose_group')"
   ]
  },
  {
   "cell_type": "markdown",
   "metadata": {},
   "source": [
    "## Вывод"
   ]
  },
  {
   "cell_type": "markdown",
   "metadata": {},
   "source": [
    "Люди, которые взяли **кредит на недвижимость** любого вида – **системны в выплатах**. Чего **не скажешь про тех**, кто взял кредит на **авто** и **образование**."
   ]
  },
  {
   "cell_type": "markdown",
   "metadata": {},
   "source": [
    "# Шаг 4. Общий вывод<a id=\"s4\"></a>"
   ]
  },
  {
   "cell_type": "markdown",
   "metadata": {},
   "source": [
    "Пероводя анализ данных, перед нами стояло 4 вопроса:\n",
    "\n",
    "* Есть ли зависимость между наличием детей и возвратом кредита в срок?\n",
    "* Есть ли зависимость между семейным положением и возвратом кредита в срок?\n",
    "* Есть ли зависимость между уровнем дохода и возвратом кредита в срок?\n",
    "* Как разные цели кредита влияют на его возврат в срок?\n",
    "\n",
    "На все 4 вопроса можно ответить – **зависимость есть**!\n",
    "\n",
    "### Кто исправно следит за своими кредитными обязательствами:\n",
    " \n",
    " - Клиенты, которые **не имеют детей**;\n",
    " - Кто находится в **официальном браке**, **официально разведены** или **потерял вторую половину**;\n",
    " - У кого доходы либо **ниже среднего**, либо **очень высокие**; \n",
    " - Кто берет кредит на **недвижимость**, будь то жилая или коммерческая.\n",
    " \n",
    " \n",
    "### Кто по статистике чаще забывает о банке и своевременных выплатах:\n",
    "\n",
    "- У кого **есть** хотя бы один **ребенок**;\n",
    "- Кто **не в браке** или живет **в гражданском браке**;\n",
    "- Кто имеет **достаток от 100 до 200 т.р.** в месяц;\n",
    "- Тот, кто берет кредит на **автомобиль** или **образование**."
   ]
  }
 ],
 "metadata": {
  "kernelspec": {
   "display_name": "Python 3",
   "language": "python",
   "name": "python3"
  },
  "language_info": {
   "codemirror_mode": {
    "name": "ipython",
    "version": 3
   },
   "file_extension": ".py",
   "mimetype": "text/x-python",
   "name": "python",
   "nbconvert_exporter": "python",
   "pygments_lexer": "ipython3",
   "version": "3.7.8"
  }
 },
 "nbformat": 4,
 "nbformat_minor": 2
}
